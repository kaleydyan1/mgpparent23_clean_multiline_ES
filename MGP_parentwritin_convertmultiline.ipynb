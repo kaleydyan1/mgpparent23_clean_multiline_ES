{
 "cells": [
  {
   "cell_type": "code",
   "execution_count": 2,
   "metadata": {},
   "outputs": [
    {
     "name": "stdout",
     "output_type": "stream",
     "text": [
      "Requirement already satisfied: openpyxl in c:\\users\\kaley\\anaconda3\\lib\\site-packages (3.0.10)\n",
      "Requirement already satisfied: et_xmlfile in c:\\users\\kaley\\anaconda3\\lib\\site-packages (from openpyxl) (1.1.0)\n",
      "Note: you may need to restart the kernel to use updated packages.\n"
     ]
    }
   ],
   "source": [
    "#pip install openpyxl"
   ]
  },
  {
   "cell_type": "markdown",
   "metadata": {},
   "source": [
    "Openpyx1 is a package for editing excel docs"
   ]
  },
  {
   "cell_type": "code",
   "execution_count": 9,
   "metadata": {},
   "outputs": [
    {
     "name": "stdout",
     "output_type": "stream",
     "text": [
      "Multiline cells have been converted to single line in the file: C:\\Users\\kaley\\OneDrive\\Documents\\MGP New\\mgp_parentwritein_22_23_large.xlsx\n"
     ]
    }
   ],
   "source": [
    "import openpyxl\n",
    "\n",
    "# Define the path to the Excel file\n",
    "file_path = r\"C:\\Users\\kaley\\OneDrive\\Documents\\MGP New\\mgp_parentwritein_22_23_large.xlsx\"\n",
    "#new file currently in ES_profile2 as mgp_parent that adds public_private field- it was manually uploaded to ES. The current file is ES as mgp_parent was created using the end file here\n",
    "\n",
    "\n",
    "# Load the Excel workbook\n",
    "workbook = openpyxl.load_workbook(file_path)\n",
    "\n",
    "# Select the active worksheet\n",
    "worksheet = workbook.active\n",
    "\n",
    "# Iterate over all the cells in the worksheet\n",
    "for row in worksheet.iter_rows():\n",
    "    for cell in row:\n",
    "        if isinstance(cell.value, str) and '\\n' in cell.value:\n",
    "            # Replace newline characters with a space\n",
    "            cell.value = cell.value.replace('\\n', ' ')\n",
    "\n",
    "# Save the modified Excel file\n",
    "workbook.save(r'C:\\Users\\kaley\\OneDrive\\Documents\\MGP New\\mgp_parentwritein_22_23_largeformat.xlsx')\n",
    "\n",
    "print(f'Multiline cells have been converted to single line in the file: {file_path}')\n"
   ]
  },
  {
   "cell_type": "code",
   "execution_count": null,
   "metadata": {},
   "outputs": [],
   "source": []
  }
 ],
 "metadata": {
  "kernelspec": {
   "display_name": "venv",
   "language": "python",
   "name": "venv"
  },
  "language_info": {
   "codemirror_mode": {
    "name": "ipython",
    "version": 3
   },
   "file_extension": ".py",
   "mimetype": "text/x-python",
   "name": "python",
   "nbconvert_exporter": "python",
   "pygments_lexer": "ipython3",
   "version": "3.11.5"
  }
 },
 "nbformat": 4,
 "nbformat_minor": 2
}
